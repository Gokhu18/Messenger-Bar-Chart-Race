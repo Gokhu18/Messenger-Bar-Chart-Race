{
 "cells": [
  {
   "cell_type": "code",
   "execution_count": 1,
   "metadata": {},
   "outputs": [],
   "source": [
    "import json\n",
    "import pandas as pd\n",
    "import numpy as np\n",
    "from zipfile import ZipFile \n",
    "import os\n",
    "import datetime\n",
    "from random import randint\n",
    "import matplotlib.colors as mc\n",
    "import colorsys\n",
    "from matplotlib import pyplot as plt\n",
    "import matplotlib.animation as animation\n",
    "import re\n",
    "from matplotlib import ticker\n",
    "\n",
    "DIR = \"messages\"\n",
    "USER_NAME = \"\"\n",
    "FILE = \"*.zip\""
   ]
  },
  {
   "cell_type": "code",
   "execution_count": 2,
   "metadata": {},
   "outputs": [
    {
     "name": "stdout",
     "output_type": "stream",
     "text": [
      "Terminé!\n"
     ]
    }
   ],
   "source": [
    "#Extraction des fichier .JSON\n",
    "\n",
    "if not \"messages\" in os.listdir():\n",
    "    os.mkdir(DIR)\n",
    "\n",
    "# ouvrir le fichier zip\n",
    "zipf = ZipFile(FILE) \n",
    "liste = zipf.infolist()\n",
    "for zipinfo in liste:\n",
    "    if \"inbox\" in zipinfo.filename:\n",
    "        name = zipinfo.filename[15:zipinfo.filename.find(\"_\")]\n",
    "        if not \"/\" in name:\n",
    "            if zipinfo.filename.endswith(\".json\"):\n",
    "                zipinfo.filename = zipinfo.filename[zipinfo.filename.find(\"message_\"):]\n",
    "                full_path = DIR+\"/\"+name\n",
    "                if not name in os.listdir(DIR+\"/\"):\n",
    "                    os.mkdir(full_path)\n",
    "                zipf.extract(zipinfo, full_path)                    \n",
    "print('Terminé!')"
   ]
  },
  {
   "cell_type": "code",
   "execution_count": 3,
   "metadata": {},
   "outputs": [],
   "source": [
    "#Lecture des fichiers .JSON\n",
    "\n",
    "names = {}\n",
    "for name in os.listdir(DIR):\n",
    "    file_names = os.listdir(DIR+'/'+name)\n",
    "    for file in file_names:\n",
    "        with open(DIR+'/'+name+'/'+file, 'r', encoding='utf-8') as myfile:\n",
    "            data = myfile.read()\n",
    "            if name in names.keys():\n",
    "                names[name].append(json.loads(data))\n",
    "            else:\n",
    "                names[name] = [json.loads(data)]"
   ]
  },
  {
   "cell_type": "code",
   "execution_count": 4,
   "metadata": {},
   "outputs": [],
   "source": [
    "#Extraction de tous les messages dans une liste\n",
    "\n",
    "messages = []\n",
    "for i in names.values():\n",
    "    messages.extend([m for j in i for m in j[\"messages\"] ])"
   ]
  },
  {
   "cell_type": "code",
   "execution_count": 5,
   "metadata": {},
   "outputs": [],
   "source": [
    "#Conversion en DataFrame\n",
    "\n",
    "df = pd.DataFrame(messages)"
   ]
  },
  {
   "cell_type": "code",
   "execution_count": 6,
   "metadata": {},
   "outputs": [],
   "source": [
    "#Filtre sur message reçu donc on enlève les messages que nous avons envoyé\n",
    "\n",
    "df = df[df[\"sender_name\"]!=USER_NAME]"
   ]
  },
  {
   "cell_type": "code",
   "execution_count": 7,
   "metadata": {},
   "outputs": [],
   "source": [
    "#Tri par temps et conversion timestamp en date\n",
    "\n",
    "df = df.sort_values(by='timestamp_ms')\n",
    "df = df.reset_index(drop=True)\n",
    "\n",
    "df[\"Date\"] = pd.to_datetime(df[\"timestamp_ms\"], unit=\"ms\").dt.date\n",
    "df = df[[\"sender_name\", \"Date\"]]\n",
    "df[\"Count\"] = np.nan"
   ]
  },
  {
   "cell_type": "code",
   "execution_count": 8,
   "metadata": {},
   "outputs": [],
   "source": [
    "#Compteur sur les messages\n",
    "\n",
    "count = {}\n",
    "for i in range(len(df)):\n",
    "    name = df.at[i,\"sender_name\"]\n",
    "    if name in count.keys():\n",
    "        count[name] += 1\n",
    "    else:\n",
    "        count[name] = 1\n",
    "    df.at[i,\"Count\"] = count[name]\n",
    "    \n",
    "df[\"Count\"] = df[\"Count\"].astype(int)"
   ]
  },
  {
   "cell_type": "code",
   "execution_count": null,
   "metadata": {},
   "outputs": [],
   "source": [
    "#Fonction pour la boucle de date depuis le début des messages jusqu'au dernier message reçu\n",
    "\n",
    "def daterange(start_date, end_date):\n",
    "    for n in range(int ((end_date - start_date).days)):\n",
    "        yield start_date + datetime.timedelta(n)"
   ]
  },
  {
   "cell_type": "code",
   "execution_count": null,
   "metadata": {},
   "outputs": [],
   "source": [
    "#Création liste pour la résultante des messages par jour pour chaque personne\n",
    "\n",
    "final_df = []\n",
    "begin = df[\"Date\"][0]\n",
    "end = df[\"Date\"][len(df)-1]\n",
    "names = {}\n",
    "for name in df[\"sender_name\"].unique():\n",
    "    tmp = df[df[\"sender_name\"]==name]\n",
    "    for date in daterange(begin,end):\n",
    "        tmp2 = tmp[tmp[\"Date\"]==date]\n",
    "        if len(tmp2) == 0:\n",
    "            if name in names.keys():\n",
    "                final_df.append({\"Count\":names[name],\"Date\":date,\"sender_name\":name})\n",
    "            else:\n",
    "                final_df.append({\"Count\":0,\"Date\":date,\"sender_name\":name})\n",
    "        else:\n",
    "            ind = tmp2.index[-1]\n",
    "            count = tmp2.at[ind,\"Count\"]\n",
    "            final_df.append({\"Count\":count,\"Date\":date,\"sender_name\":name})\n",
    "            names[name] = count"
   ]
  },
  {
   "cell_type": "code",
   "execution_count": null,
   "metadata": {},
   "outputs": [],
   "source": [
    "#Convertion en DataFrame\n",
    "\n",
    "final_df = pd.DataFrame(final_df)"
   ]
  },
  {
   "cell_type": "code",
   "execution_count": null,
   "metadata": {},
   "outputs": [
    {
     "name": "stdout",
     "output_type": "stream",
     "text": [
      "OK!\n"
     ]
    }
   ],
   "source": [
    "#Vérification du total des lignes\n",
    "\n",
    "if len(final_df[\"Date\"].unique()) * len(final_df[\"sender_name\"].unique()) == len(final_df):\n",
    "    print(\"OK!\")\n",
    "else:\n",
    "    print(\"Problem\")"
   ]
  },
  {
   "cell_type": "code",
   "execution_count": null,
   "metadata": {},
   "outputs": [],
   "source": [
    "df = final_df\n",
    "del final_df"
   ]
  },
  {
   "cell_type": "code",
   "execution_count": null,
   "metadata": {},
   "outputs": [],
   "source": [
    "#Création du fichier .mp4 Bar Chart Race \n",
    "#Code from https://medium.com/@6berardi/how-to-create-a-smooth-bar-chart-race-with-python-ad2daf6510dc\n",
    "\n",
    "frames_list = df[\"Date\"].unique().tolist()\n",
    "for i in range(10):\n",
    "    frames_list.append(df['Date'].iloc[-1])\n",
    "\n",
    "def transform_color(color, amount = 0.5):\n",
    "\n",
    "    try:\n",
    "        c = mc.cnames[color]\n",
    "    except:\n",
    "        c = color\n",
    "        c = colorsys.rgb_to_hls(*mc.to_rgb(c))\n",
    "    return colorsys.hls_to_rgb(c[0], 1 - amount * (1 - c[1]), c[2])\n",
    "\n",
    "all_names = df['sender_name'].unique().tolist()\n",
    "random_hex_colors = []\n",
    "for i in range(len(all_names)):\n",
    "    random_hex_colors.append('#' + '%06X' % randint(0, 0xFFFFFF))\n",
    "\n",
    "rgb_colors = [transform_color(i, 1) for i in random_hex_colors]\n",
    "rgb_colors_opacity = [rgb_colors[x] + (0.825,) for x in range(len(rgb_colors))]\n",
    "rgb_colors_dark = [transform_color(i, 1.12) for i in random_hex_colors]\n",
    "\n",
    "fig, ax = plt.subplots(figsize = (36, 20))\n",
    "\n",
    "num_of_elements = 8\n",
    "\n",
    "def draw_barchart(Time):\n",
    "    df_frame = df[df['Date'].eq(Time)].sort_values(by = 'Count', ascending = True).tail(num_of_elements)\n",
    "    ax.clear()\n",
    "\n",
    "    normal_colors = dict(zip(df['sender_name'].unique(), rgb_colors_opacity))\n",
    "    dark_colors = dict(zip(df['sender_name'].unique(), rgb_colors_dark))\n",
    "    \n",
    "    ax.barh(df_frame['sender_name'], df_frame['Count'], color = [normal_colors[x] for x in df_frame['sender_name']], height = 0.8,\n",
    "            edgecolor =([dark_colors[x] for x in df_frame['sender_name']]), linewidth = '6')\n",
    "\n",
    "    dx = float(df_frame['Count'].max()) / 200\n",
    "\n",
    "    for i, (value, name) in enumerate(zip(df_frame['Count'], df_frame['sender_name'])):\n",
    "        ax.text(value + dx, i + (num_of_elements / 50), '    ' + name.split(\" \")[0],\n",
    "        size = 36, weight = 'bold', ha = 'left', va = 'center', fontdict = {'fontname': 'Trebuchet MS'})\n",
    "        ax.text(value + dx, i - (num_of_elements / 50),     str(value), size = 36, ha = 'left', va = 'center')\n",
    "\n",
    "    time_unit_displayed = re.sub(r'\\^(.*)', r'', str(Time))\n",
    "    ax.text(1.0, 1.14, time_unit_displayed, transform = ax.transAxes, color = '#666666',\n",
    "            size = 62, ha = 'right', weight = 'bold', fontdict = {'fontname': 'Trebuchet MS'})\n",
    "    ax.text(-0.005, 1.06, '# messages', transform = ax.transAxes, size = 30, color = '#666666')\n",
    "    ax.text(-0.005, 1.14, 'Number of messages from 2008 to 2020', transform = ax.transAxes,\n",
    "            size = 62, weight = 'bold', ha = 'left', fontdict = {'fontname': 'Trebuchet MS'})\n",
    "\n",
    "    ax.xaxis.set_major_formatter(ticker.StrMethodFormatter('{x:,.0f}'))\n",
    "    ax.xaxis.set_ticks_position('top')\n",
    "    ax.tick_params(axis = 'x', colors = '#666666', labelsize = 28)\n",
    "    ax.set_yticks([])\n",
    "    ax.set_axisbelow(True)\n",
    "    ax.margins(0, 0.01)\n",
    "    ax.grid(which = 'major', axis = 'x', linestyle = '-')\n",
    "\n",
    "    plt.locator_params(axis = 'x', nbins = 4)\n",
    "    plt.box(False)\n",
    "    plt.subplots_adjust(left = 0.075, right = 0.75, top = 0.825, bottom = 0.05, wspace = 0.2, hspace = 0.2)\n",
    "\n",
    "animator = animation.FuncAnimation(fig, draw_barchart, frames = frames_list)\n",
    "animator.save(\"Racing Bar Chart 2008-2019.mp4\", fps = 20, bitrate = 1800)"
   ]
  }
 ],
 "metadata": {
  "kernelspec": {
   "display_name": "Python 3",
   "language": "python",
   "name": "python3"
  },
  "language_info": {
   "codemirror_mode": {
    "name": "ipython",
    "version": 3
   },
   "file_extension": ".py",
   "mimetype": "text/x-python",
   "name": "python",
   "nbconvert_exporter": "python",
   "pygments_lexer": "ipython3",
   "version": "3.5.4"
  }
 },
 "nbformat": 4,
 "nbformat_minor": 2
}
